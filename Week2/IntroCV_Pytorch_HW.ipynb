{
 "cells": [
  {
   "cell_type": "markdown",
   "metadata": {},
   "source": [
    "# Pytorch 과제\n",
    "> 인공지능 스터디 두 번째 과제에 오신 것을 환영합니다! Pytorch 강의를 들으면서 배운 다양한 지식들을 실습을 통해서 활용해볼 시간을 가질 것입니다!"
   ]
  },
  {
   "cell_type": "markdown",
   "metadata": {},
   "source": [
    "```python\n",
    "이번 과제도 우리 친구 딥토와 함께합니다.\n",
    "\n",
    "🐙\n",
    "다시 만나서 반가워요! 이번에도 열심히 해봐요!!\n",
    "\n",
    "```\n",
    "\n",
    "\n",
    "```python\n",
    "🐙\n",
    "퀴즈를 통해서 강의에서 배웠던 내용을 같이 복습해 봐요!\n",
    "```"
   ]
  },
  {
   "cell_type": "markdown",
   "metadata": {},
   "source": [
    "#### ❓ <font color='red'><b>[ 퀴즈 ]</b></font> FCN (단일선택)\n",
    "```python\n",
    "다음 보기 중 FCN(Fully convolution Network)에 대해 가장 알맞은 것을 선택해 주세요.\n",
    "\n",
    "(1) 입력 이미지 크기에 관계없이 다양한 크기의 이미지를 입력받을 수 있다.\n",
    "(2) FC(Fully connected) layer를 네트워크의 마지막 단에 사용한다.\n",
    "(3) Object Detection task를 해결하기 위해 고안되었다.\n",
    "(4) 주로 텍스트 데이터를 처리하는 데 사용된다.\n",
    "```"
   ]
  },
  {
   "cell_type": "markdown",
   "metadata": {},
   "source": [
    "```python\n",
    "😉\n",
    "# TODO : 1\n",
    "\n",
    "```"
   ]
  },
  {
   "cell_type": "markdown",
   "metadata": {},
   "source": [
    "#### ❓ <font color='red'><b>[ 퀴즈 ]</b></font> Object Detection (단일선택)\n",
    "```python\n",
    "다음 보기 중 RPN(Region Proposal Network)를 사용하는 네트워크를 선택해 주세요.\n",
    "\n",
    "(1) R-CNN\n",
    "(2) SPPNet\n",
    "(3) Fast R-CNN\n",
    "(4) Faster R-CNN\n",
    "```"
   ]
  },
  {
   "cell_type": "markdown",
   "metadata": {},
   "source": [
    "```python\n",
    "😉\n",
    "# TODO : 4\n",
    "\n",
    "```"
   ]
  },
  {
   "cell_type": "markdown",
   "metadata": {},
   "source": [
    "#### ❓ <font color='red'><b>[ 퀴즈 ]</b></font> Pytorch 기본 (단일선택)\n",
    "```python\n",
    "import torch\n",
    "\n",
    "a = torch.zeros(4,2)\n",
    "b = a.view(2,4)\n",
    "a.fill_(1)\n",
    "\n",
    "a = torch.zeros(4,2)\n",
    "c = a.t().reshape(8)\n",
    "a.fill_(1)\n",
    "\n",
    "위의 코드를 보고 b와 c의 알맞은 결과를 선택해주세요.\n",
    "\n",
    "(1) b =tensor([[1., 1., 1., 1.], [1., 1., 1., 1.]]), c =tensor([0., 0., 0., 0., 0., 0., 0., 0.])\n",
    "(2) b =tensor([[1., 1., 1., 1.], [1., 1., 1., 1.]]), c =tensor([1., 1., 1., 1., 1., 1., 1., 1.])\n",
    "(3) b =tensor([[0., 0., 0., 0.], [0., 0., 0., 0.]]), c =tensor([1., 1., 1., 1., 1., 1., 1., 1.])\n",
    "(4) b =tensor([[0., 0., 0., 0.], [0., 0., 0., 0.]]), c =tensor([0., 0., 0., 0., 0., 0., 0., 0.])\n",
    "```"
   ]
  },
  {
   "cell_type": "markdown",
   "metadata": {},
   "source": [
    "```python\n",
    "😉\n",
    "# TODO : 1\n",
    "\n",
    "```"
   ]
  },
  {
   "cell_type": "markdown",
   "metadata": {},
   "source": [
    "#### ❓ <font color='red'><b>[ 퀴즈 ]</b></font> Pytorch 구조 학습하기 (단일선택)\n",
    "```python\n",
    "backward라는 함수가 호출되면서 해당 값으로 파라미터가 업데이트해가는 과정입니다. \n",
    "epoch가 돌아갈 때마다 순서대로 연산이 진행이 되는데, 보기의 중 틀린 것을 고르세요.\n",
    "```\n",
    "\n",
    "**힌트** \n",
    "- 강의 자료 backward 설명(41페이지)을 참고해봐요!\n",
    "\n",
    "```python\n",
    "(1) optimizer.zero_grad()\n",
    "(2) loss = criterion(outputs, labels)\n",
    "(3) loss.forward()\n",
    "(4) optimizer.step()\n",
    "```"
   ]
  },
  {
   "cell_type": "markdown",
   "metadata": {},
   "source": [
    "```python\n",
    "😉\n",
    "# TODO : 3\n",
    "\n",
    "```"
   ]
  },
  {
   "cell_type": "markdown",
   "metadata": {},
   "source": [
    "##  모델 제작을 위한 Documentation 활용\n",
    "```\n",
    "🔮 PyTorch 라이브러리의 Documentation을 함께 살펴보면서 Custom 모델\n",
    "   제작을 위해 Documentation을 활용하는 방법을 배워봅시다!\n",
    "```"
   ]
  },
  {
   "cell_type": "markdown",
   "metadata": {},
   "source": [
    "### Documentation 둘러보기\n",
    "\n",
    "``` python\n",
    "🐙\n",
    "PyTorch를 알기 위해서 공식 documention을 들어가보았어요!\n",
    "저희 함께 Documentation을 둘러보아요!\n",
    "```\n",
    "- [Documentation main - PyTorch 공식 문서](https://pytorch.org/docs/stable/index.html)"
   ]
  },
  {
   "cell_type": "markdown",
   "metadata": {},
   "source": [
    "### Documentation에서 정보 탐색하기\n"
   ]
  },
  {
   "cell_type": "markdown",
   "metadata": {},
   "source": [
    "#### ❓ <font color='red'><b>[ 퀴즈 ]</b></font> Documentation이 제공하는 search 기능 활용"
   ]
  },
  {
   "cell_type": "markdown",
   "metadata": {},
   "source": [
    "##### Matrix Multiplication\n",
    "\n",
    "``` python\n",
    "🐙\n",
    "pytorch에서 Matrix Multiplication을 하고 싶을 때 사용하는 함수는 무엇일까요?\n",
    "```"
   ]
  },
  {
   "cell_type": "markdown",
   "metadata": {},
   "source": [
    "```python\n",
    "😉\n",
    "# TODO : torch.mm\n",
    "\n",
    "```"
   ]
  },
  {
   "cell_type": "markdown",
   "metadata": {},
   "source": [
    "#### 👨‍💻 <font color='green'><b>[ 코딩 ]</b></font> 사칙연산 계산하기\n",
    "\n",
    "``` python\n",
    "🐙\n",
    "저희도 이제 드디어 PyTorch를 이용해 코딩을 시작하네요!\n",
    "간단한 사칙연산으로 같이 시작해봐요!\n",
    "```\n",
    "- [Documentation main - PyTorch 공식 문서](https://pytorch.org/docs/stable/index.html)"
   ]
  },
  {
   "cell_type": "markdown",
   "metadata": {},
   "source": [
    "##### 💡 더하기 (add)\n",
    "> 🐙 딥토가 코드를 작성해주었어요!\n",
    "\n",
    "```python\n",
    "🐙\n",
    "5 + 7 계산을 먼저 제가 해볼게요!\n",
    "```\n",
    "\n",
    "- [torch.add - PyTorch 공식 문서](https://pytorch.org/docs/stable/generated/torch.add.html?highlight=add#torch.add)"
   ]
  },
  {
   "cell_type": "code",
   "execution_count": null,
   "metadata": {},
   "outputs": [],
   "source": [
    "import torch\n",
    "\n",
    "A = torch.Tensor([5])\n",
    "B = torch.Tensor([7])\n",
    "\n",
    "torch.add(A, B)"
   ]
  },
  {
   "cell_type": "code",
   "execution_count": null,
   "metadata": {},
   "outputs": [],
   "source": [
    "# 🐙 torch.add를 + 연산자를 통해서 사용 가능해요!\n",
    "A + B"
   ]
  },
  {
   "cell_type": "code",
   "execution_count": null,
   "metadata": {},
   "outputs": [],
   "source": [
    "# 🐙 계산할때 피연산자(operand)중 하나라도 tensor가 입력되면 결과는 tensor로 나와요!\n",
    "A + 7"
   ]
  },
  {
   "cell_type": "markdown",
   "metadata": {},
   "source": [
    "##### 💡 복잡한 사칙연산 계산\n",
    "```python\n",
    "🐙\n",
    "(3 + 7) * 2 - 5 / 10 은 무엇일까요?\n",
    "연산자(+, -, *, /) 없이 함수를 사용해 계산해주세요!\n",
    "```\n",
    "\n",
    "각 사칙연산은 torch에서 어떤 이름을 사용할까요?\n",
    "- `+` : [torch.add](https://pytorch.org/docs/stable/generated/torch.add.html?highlight=add#torch.add)\n",
    "- `-` : torch.sub\n",
    "- `*` : torch.mul\n",
    "- `/` : torch.div"
   ]
  },
  {
   "cell_type": "code",
   "execution_count": null,
   "metadata": {},
   "outputs": [],
   "source": [
    "import torch\n",
    "\n",
    "A = torch.Tensor([3])\n",
    "B = torch.Tensor([7])\n",
    "C = torch.Tensor([2])\n",
    "D = torch.Tensor([5])\n",
    "E = torch.Tensor([10])\n",
    "\n",
    "# TODO : torch 함수를 이용해서 (3 + 7) * 2 - 5 / 10 를 계산해보세요!\n",
    "# 정답 19.5가 나와야 합니다!'\n",
    "A = torch.mul(A, C)\n",
    "B = torch.mul(B, C)\n",
    "D = torch.div(D, E)\n",
    "B = torch.sub(B, D)\n",
    "\n",
    "output = torch.add(A, B) # 1줄에 torch 함수 하나씩만 사용하세요!\n",
    "\n",
    "\n",
    "# 아래 코드는 수정하실 필요가 없습니다!\n",
    "if output == 19.5:\n",
    "    print(\"🎉🎉🎉 성공!!! 🎉🎉🎉\")\n",
    "else:\n",
    "    print(\"🐙 다시 도전해봐요!\")"
   ]
  },
  {
   "cell_type": "markdown",
   "metadata": {},
   "source": [
    "###  Documentation 읽기\n",
    "\n"
   ]
  },
  {
   "cell_type": "markdown",
   "metadata": {},
   "source": [
    "#### torch.nn 문서 읽기\n",
    "``` python\n",
    "🐙\n",
    "설명에 그래프를 만들기 위한 \"basic building block\"이라고 쓰여있어요!\n",
    "\n",
    "지금까지 저희가 확인한 다양한 함수들을 잘 활용하면\n",
    "여기서 말하는 \"basic building block\"을 만들 수 있겠지만 시간이 걸리니까\n",
    "PyTorch에서 미리 만들어두고 이를 \"torch.nn\"으로 묶어놓은 것 같아요!\n",
    "\n",
    "여기서 제공해주는 블럭들을 잘 이용하면 그래프라는 딥러닝 모델을 만들 수 있을 것 같아요!\n",
    "\n",
    "우리 간단하게 훑어 봅시다!\n",
    "```\n",
    "\n",
    "- [torch.nn 문서 - PyTorch 공식 문서](https://pytorch.org/docs/stable/nn.html)\n",
    "\n",
    "\n",
    "-  torch.nn의 하위 목차를 한번 훑어보세요!\n",
    "-  각 하위 목차별로 어떤 레이어(Layer)혹은 함수(Function)가 속해있는지 훑어보세요!"
   ]
  },
  {
   "cell_type": "markdown",
   "metadata": {},
   "source": [
    "#### 👨‍💻 <font color='green'><b>[ 코딩 ]</b></font> torch.nn `Linear Layers`\n",
    "\n",
    "``` python\n",
    "🐙\n",
    "딥러닝을 공부할 때 자주 나오던 y = WX + b 라는 공식이 기억나시나요?\n",
    "이 linear transformation을 구현해놓은 \"nn.Linear\"와 \"nn.Linear\"가 속해있는\n",
    "\"Linear Layers\" 항목을 같이 살펴봐요!\n",
    "```\n",
    "- [torch.nn.Linear - PyTorch 공식 문서](https://pytorch.org/docs/stable/generated/torch.nn.Linear.html#torch.nn.Linear)\n",
    "- [torch.nn Linear Layers - PyTorch 공식 문서](https://pytorch.org/docs/stable/nn.html#linear-layers)\n",
    "---"
   ]
  },
  {
   "cell_type": "markdown",
   "metadata": {},
   "source": [
    "```python\n",
    "tensor X의 크기는 (2, 2)입니다.\n",
    "nn.Linear를 사용하여서 (2, 5)로 크기를 바꾸고 이 크기를 출력하세요!\n",
    "```\n",
    "\n",
    "🎁 **힌트** 🎁\n",
    "- PyTorch에는 tensor 크기(or 모양)를 반환하는 함수가 있어요! 영어로 크기가 무엇일까요?"
   ]
  },
  {
   "cell_type": "code",
   "execution_count": null,
   "metadata": {},
   "outputs": [],
   "source": [
    "import torch\n",
    "from torch import nn\n",
    "\n",
    "X = torch.Tensor([[1, 2],\n",
    "                  [3, 4]])\n",
    "linear = nn.Linear(2, 5)\n",
    "X = linear(X)\n",
    "\n",
    "print(X.size())\n",
    "# TODO:\n"
   ]
  },
  {
   "cell_type": "markdown",
   "metadata": {},
   "source": [
    "##  Custom 모델 제작을 위한 nn.Module 클래스\n",
    "\n",
    "```\n",
    "🔮 PyTorch 라이브러리가 제공해주는 다양한 기능들과\n",
    "   nn.Module를 활용하여 모델 제작 및 분석을 진행해볼 것입니다!\n",
    "```\n",
    "\n",
    "\n",
    "#### nn.Module 문서 읽기\n",
    "\n",
    "- [torch.nn.Module - PyTorch 공식 문서](https://pytorch.org/docs/stable/generated/torch.nn.Module.html)\n",
    "\n",
    "`nn.Module` 클래스는 여러 기능들을 한 곳에 모아놓는 상자 역할을 합니다.<br>\n",
    "`nn.Module`이라는 상자는 다른 `nn.Module` 상자를 포함할 수도 있습니다!<br>\n",
    "어떻게 사용햐느냐에 따라 `nn.Module` 상자는 다른 의미를 가집니다.\n",
    "\n",
    "- `nn.Module`이라는 상자에 `기능`들을 가득 모아놓은 경우 `basic building block`\n",
    "- `nn.Module`이라는 상자에 `basic building block`인 `nn.Module`들을 가득 모아놓은 경우 `딥러닝 모델`\n",
    "- `nn.Module`이라는 상자에 `딥러닝 모델`인 `nn.Module`들을 가득 모아놓은 경우 `더욱 큰 딥러닝 모델`\n",
    "\n",
    "`nn.Module`은 빈 상자일 뿐 이를 어떻게 사용할지는 온전히 설계자의 몫입니다!<br>\n",
    "`기능`과 `basic building block`과 `딥러닝 모델`을 혼재해서 마구잡이로 담을 수도 있고<br>\n",
    "`기능`은 `기능`끼리 `block`은 `block`끼리 계층적으로 담을 수도 있습니다!\n",
    "\n",
    "우리는 여기서 `nn.Module`를 이용해 모델을 제작해보고 제작한 모델이 어떻게 구성되어있는지 분석해볼 것입니다!<br>\n",
    "추가적으로 custom 모델 제작에 유용할 수 있는 `nn.Module`의 기능들도 살펴볼 것입니다!\n",
    "\n"
   ]
  },
  {
   "cell_type": "markdown",
   "metadata": {},
   "source": [
    "### nn.Module 모델 제작\n"
   ]
  },
  {
   "cell_type": "markdown",
   "metadata": {},
   "source": [
    "#### 👨‍💻 <font color='green'><b>[ 코딩 ]</b></font> 1 + 2\n",
    "\n",
    "``` python\n",
    "🐙\n",
    "Documentation을 읽어나가다가 \"torch.add\"를 이용해서\n",
    "사칙연산을 계산한 것을 기억하세요?\n",
    "\n",
    "이번에는 \"nn.Module\"를 이용해서 더하기 연산을 하는 모델을 만들어보아요!\n",
    "```\n",
    "\n",
    "- [Documentation main - PyTorch 공식 문서](https://pytorch.org/docs/stable/index.html)\n",
    "- [torch.add - PyTorch 공식 문서](https://pytorch.org/docs/stable/generated/torch.add.html?highlight=add#torch.add)"
   ]
  },
  {
   "cell_type": "code",
   "execution_count": null,
   "metadata": {},
   "outputs": [],
   "source": [
    "import torch\n",
    "from torch import nn\n",
    "\n",
    "# TODO : Add 모델을 완성하세요!\n",
    "class Add(nn.Module):\n",
    "    def __init__(self):\n",
    "        # TODO : init 과정에서 반드시 들어가야 하는 super 관련 코드가 있습니다\n",
    "        super().__init__()\n",
    "\n",
    "    def forward(self, x1, x2):\n",
    "        # TODO : torch.add 함수를 사용해서 더하기 연산을 해주세요!\n",
    "        return torch.add(x1, x2)\n",
    "\n",
    "\n",
    "# 아래 코드는 수정하실 필요가 없습니다!\n",
    "x1 = torch.tensor([1])\n",
    "x2 = torch.tensor([2])\n",
    "\n",
    "add = Add()\n",
    "output = add(x1, x2)\n",
    "\n",
    "if output == 3:\n",
    "    print(\"🎉🎉🎉 성공!!! 🎉🎉🎉\")\n",
    "else:\n",
    "    print(\"🐙 다시 도전해봐요!\")"
   ]
  },
  {
   "cell_type": "markdown",
   "metadata": {},
   "source": [
    "``` python\n",
    "🐙\n",
    "super를 통해서 init을 하는 것은 왜 그런걸까요?\n",
    "\n",
    "아래 링크의 글을 읽어보고 궁금증을 해결해 보아요!\n",
    "```\n",
    "\n",
    "**유용한 자료**\n",
    "- [Why is the super constructor necessary in PyTorch custom modules? - Stack Overflow](https://stackoverflow.com/questions/63058355/why-is-the-super-constructor-necessary-in-pytorch-custom-modules)"
   ]
  },
  {
   "cell_type": "markdown",
   "metadata": {},
   "source": [
    "#### 👨‍💻 <font color='green'><b>[ 실습 ]</b></font> Module들의 흐름 느껴보기\n",
    "> 🐙 딥토가 코드를 작성해주었어요\n",
    "\n",
    "``` python\n",
    "🐙\n",
    "Module은 Module을 포함할 수 있다는 사실이 멋져요!\n",
    "\n",
    "- 최소의 기능 단위인 function\n",
    "- function들로 이루어진 layer\n",
    "- layer로 이루어진 model\n",
    "\n",
    "작은 부분부터 블럭을 하나씩 쌓고 또 쌓다보면 어느 순간\n",
    "우리는 거대한 딥러닝 모델이라는 멋진 탑을 볼 수 있어요!\n",
    "\n",
    "Module과 Module의 연결이 만들어내는 흐름을 느껴보세요!\n",
    "각 Module의 초기화는 어떤 순서로 되는지,\n",
    "언제 시작하고 끝나는지 천천히 생각해보세요!\n",
    "```\n"
   ]
  },
  {
   "cell_type": "code",
   "execution_count": null,
   "metadata": {},
   "outputs": [],
   "source": [
    "import torch\n",
    "from torch import nn\n",
    "\n",
    "\n",
    "# Function\n",
    "class Function_A(nn.Module):\n",
    "    def __init__(self):\n",
    "        super().__init__()\n",
    "        print(f\"        Function A Initialized\")\n",
    "\n",
    "    def forward(self, x):\n",
    "        print(f\"        Function A started\")\n",
    "        print(f\"        Function A done\")\n",
    "\n",
    "class Function_B(nn.Module):\n",
    "    def __init__(self):\n",
    "        super().__init__()\n",
    "        print(f\"        Function B Initialized\")\n",
    "\n",
    "    def forward(self, x):\n",
    "        print(f\"        Function B started\")\n",
    "        print(f\"        Function B done\")\n",
    "\n",
    "class Function_C(nn.Module):\n",
    "    def __init__(self):\n",
    "        super().__init__()\n",
    "        print(f\"        Function C Initialized\")\n",
    "\n",
    "    def forward(self, x):\n",
    "        print(f\"        Function C started\")\n",
    "        print(f\"        Function C done\")\n",
    "\n",
    "class Function_D(nn.Module):\n",
    "    def __init__(self):\n",
    "        super().__init__()\n",
    "        print(f\"        Function D Initialized\")\n",
    "\n",
    "    def forward(self, x):\n",
    "        print(f\"        Function D started\")\n",
    "        print(f\"        Function D done\")\n",
    "\n",
    "\n",
    "# Layer\n",
    "class Layer_AB(nn.Module):\n",
    "    def __init__(self):\n",
    "        super().__init__()\n",
    "\n",
    "        self.a = Function_A()\n",
    "        self.b = Function_B()\n",
    "\n",
    "        print(f\"    Layer AB Initialized\")\n",
    "\n",
    "    def forward(self, x):\n",
    "        print(f\"    Layer AB started\")\n",
    "        self.a(x)\n",
    "        self.b(x)\n",
    "        print(f\"    Layer AB done\")\n",
    "\n",
    "class Layer_CD(nn.Module):\n",
    "    def __init__(self):\n",
    "        super().__init__()\n",
    "\n",
    "        self.c = Function_C()\n",
    "        self.d = Function_D()\n",
    "\n",
    "        print(f\"    Layer CD Initialized\")\n",
    "\n",
    "    def forward(self, x):\n",
    "        print(f\"    Layer CD started\")\n",
    "        self.c(x)\n",
    "        self.d(x)\n",
    "        print(f\"    Layer CD done\")\n",
    "\n",
    "\n",
    "# Model\n",
    "class Model(nn.Module):\n",
    "    def __init__(self):\n",
    "        super().__init__()\n",
    "\n",
    "        self.ab = Layer_AB()\n",
    "        self.cd = Layer_CD()\n",
    "\n",
    "        print(f\"Model ABCD Initialized\\n\")\n",
    "\n",
    "    def forward(self, x):\n",
    "        print(f\"Model ABCD started\")\n",
    "        self.ab(x)\n",
    "        self.cd(x)\n",
    "        print(f\"Model ABCD done\\n\")\n",
    "\n",
    "\n",
    "x = torch.tensor([7])\n",
    "\n",
    "model = Model()\n",
    "model(x)\n",
    "\n",
    "print(\"🎉🎉🎉 모든 딥러닝 모델은 이처럼 Module들이 쌓이고 쌓여서 만들어집니다! 🎉🎉🎉\")\n",
    "print(\"🎉🎉🎉 흐름을 느껴보시고 이 흐름이 이해가 되신 분은 다음으로 가시면 됩니다! 🎉🎉\")"
   ]
  },
  {
   "cell_type": "markdown",
   "metadata": {},
   "source": [
    "##  Custom Dataset 및 DataLoader 생성\n"
   ]
  },
  {
   "cell_type": "markdown",
   "metadata": {},
   "source": [
    "### Dataset의 기본 구성 요소\n",
    "---\n",
    "\n",
    "기본적으로 Dataset을 구성할 때는 PyTorch의 `torch.utils.data`에서 **`Dataset 클래스`를 상속**해서 만듭니다. 이렇게 생성된 Dataset 클래스는 크게 아래와 같이 3가지 메서드로 구성됩니다. `__init__` 메서드와 `__len__` 메서드와 마지막으로 `__getitem__` 메서드로 구성됩니다. "
   ]
  },
  {
   "cell_type": "markdown",
   "metadata": {},
   "source": [
    "```python\n",
    "from torch.utils.data import Dataset\n",
    "\n",
    "class CustomDataset(Dataset):\n",
    "    def __init__(self,):\n",
    "        pass\n",
    "\n",
    "    def __len__(self):\n",
    "        pass\n",
    "    \n",
    "    def __getitem__(self, idx):\n",
    "        pass\n",
    "```"
   ]
  },
  {
   "cell_type": "markdown",
   "metadata": {},
   "source": [
    "#### `__init__` 메서드\n",
    "일반적으로 해당 메서드에서는 데이터의 위치나 파일명과 같은 초기화 작업을 위해 동작합니다. 일반적으로 CSV파일이나 XML파일과 같은 데이터를 이때 불러옵니다. 이렇게 함으로서 모든 데이터를 메모리에 로드하지 않고 효율적으로 사용할 수 있습니다. 여기에 이미지를 처리할 transforms들을 Compose해서 정의해둡니다."
   ]
  },
  {
   "cell_type": "markdown",
   "metadata": {},
   "source": [
    "#### `__len__` 메서드\n",
    "해당 메서드는 Dataset의 최대 요소 수를 반환하는데 사용됩니다. 해당 메서드를 통해서 현재 불러오는 데이터의 인덱스가 적절한 범위 안에 있는지 확인할 수 있습니다."
   ]
  },
  {
   "cell_type": "markdown",
   "metadata": {},
   "source": [
    "#### `__getitem__` 메서드\n",
    "해당 메서드는 데이터셋의 idx번째 데이터를 반환하는데 사용됩니다. 일반적으로 원본 데이터를 가져와서 전처리하고 데이터 증강하는 부분이 모두 여기에서 진행될 겁니다. 이는 이후 transform 하는 방법들에 대해서 간단히 알려드리겠습니다."
   ]
  },
  {
   "cell_type": "markdown",
   "metadata": {},
   "source": [
    "#### 그 외 메서드\n",
    "추가적으로 학습시 Dataset에서 필요한만한 정보 (e.g. labels, target class) 를 가져오는 메서드를 정의하는 것과 같은 메서드를 정의해도 됩니다."
   ]
  },
  {
   "cell_type": "markdown",
   "metadata": {},
   "source": [
    "#### 👨‍💻 <font color='green'><b>[ 코딩 ]</b></font> iris Dataset 제작\n",
    "```python\n",
    "🐙\n",
    "Dataset의 개념에 대해서 위에서 알아보았어요! \n",
    "이제 scikit-learn에서 제공하는 붓꽃 데이터를 이용해서 간단한 Dataset을 만들어보아요!\n",
    "\n",
    "다음의 내용으로 만들어 보아요\n",
    "\n",
    "__init__메서드: 데이터를 불러오고 변수 X에는 feature를, 변수 y에는 target을 넣어주세요.\n",
    "__len__메서드: 데이터의 총 갯수를 반환해주세요.\n",
    "__getitem__메서드: idx가 주어질 때, X와 y를 반환해주세요.\n",
    "```"
   ]
  },
  {
   "cell_type": "markdown",
   "metadata": {},
   "source": [
    "```python\n",
    "🐙\n",
    "아래와 같은 표에서 한 행씩 반환해줄 수 있는 Dataset을 만들 예정이에요!\n",
    "```\n"
   ]
  },
  {
   "cell_type": "code",
   "execution_count": null,
   "metadata": {},
   "outputs": [],
   "source": [
    "from sklearn.datasets import load_iris\n",
    "import pandas as pd\n",
    "\n",
    "iris = load_iris()\n",
    "iris_df = pd.DataFrame(iris['data'], columns=iris['feature_names'])\n",
    "iris_df['target'] = iris['target']\n",
    "iris_df"
   ]
  },
  {
   "cell_type": "markdown",
   "metadata": {},
   "source": [
    "```python\n",
    "🐙\n",
    "아래의 `IrisDataset`을 완성시켜주세요.\n",
    "```"
   ]
  },
  {
   "cell_type": "code",
   "execution_count": null,
   "metadata": {},
   "outputs": [],
   "source": [
    "from torch.utils.data import Dataset\n",
    "\n",
    "class IrisDataset(Dataset):\n",
    "    def __init__(self):\n",
    "        iris = load_iris()\n",
    "        ######################################TODO######################################\n",
    "        self.X = iris['data']\n",
    "        self.y = iris['target']\n",
    "        ################################################################################\n",
    "        self.feature_names = iris['feature_names']\n",
    "        self.target_names = iris['target_names']\n",
    "\n",
    "    def __len__(self):\n",
    "        len_dataset = None\n",
    "        ######################################TODO######################################\n",
    "        len_dataset = len(self.X)\n",
    "        ################################################################################\n",
    "        return len_dataset\n",
    "\n",
    "    def __getitem__(self, idx):\n",
    "        X, y = None, None\n",
    "        ######################################TODO######################################\n",
    "        X = self.X[idx]\n",
    "        y = self.y[idx]\n",
    "        ################################################################################\n",
    "        return X, y"
   ]
  },
  {
   "cell_type": "markdown",
   "metadata": {},
   "source": [
    "```python\n",
    "🐙\n",
    "아마도 여러분께서 과제를 해결하셨다면 아래의 예제를 계속해서 따라갈 수 있을거에요!\n",
    "```"
   ]
  },
  {
   "cell_type": "code",
   "execution_count": null,
   "metadata": {},
   "outputs": [],
   "source": [
    "dataset_iris = IrisDataset()"
   ]
  },
  {
   "cell_type": "markdown",
   "metadata": {},
   "source": [
    "```python\n",
    "🐙\n",
    "현재 150개의 데이터를 확인할 수 있어요.\n",
    "```"
   ]
  },
  {
   "cell_type": "code",
   "execution_count": null,
   "metadata": {},
   "outputs": [],
   "source": [
    "len(dataset_iris)"
   ]
  },
  {
   "cell_type": "markdown",
   "metadata": {},
   "source": [
    "```python\n",
    "🐙\n",
    "직접 인덱스로 접근해서 첫번째 데이터를 가져와보아요. `__getitem__`메서드를 통해서 나온 X와 y값이 잘 나온 것을 확인할 수 있어요.\n",
    "```\n"
   ]
  },
  {
   "cell_type": "code",
   "execution_count": null,
   "metadata": {},
   "outputs": [],
   "source": [
    "dataset_iris[0]"
   ]
  },
  {
   "cell_type": "markdown",
   "metadata": {},
   "source": [
    "간단하게 IrisDataset으로 시각화도 진행해볼까요?"
   ]
  },
  {
   "cell_type": "code",
   "execution_count": null,
   "metadata": {},
   "outputs": [],
   "source": [
    "import matplotlib.pyplot as plt\n",
    "\n",
    "plt.figure(figsize=(12,8))\n",
    "colors = ['r','g','b']\n",
    "for n, c in enumerate(dataset_iris.y):\n",
    "    plt.scatter(dataset_iris.X[n,0], dataset_iris.X[n,1], color=colors[c])\n",
    "plt.title('Relationship between {} and {}'.format(dataset_iris.feature_names[0],\n",
    "                                                  dataset_iris.feature_names[1]))\n",
    "plt.grid(True)\n",
    "plt.show()"
   ]
  },
  {
   "cell_type": "markdown",
   "metadata": {},
   "source": [
    "### DataLoader의 기본 구성 요소\n",
    "---\n",
    "Dataloader는 모델 학습을 위해서 데이터를 미니 배치(Mini batch)단위로 제공해주는 역할을 합니다. [PyTorch Documentations](https://pytorch.org/docs/stable/data.html)을 확인해보면 아래와 같이 `DataLoader`가 정의되어 있는 걸 확인할 수 있습니다. 여기서 dataset은 앞서 우리가 만든 `Dataset`을 인자로 넣어주시면 됩니다! 보통 `batch_size`나 `num_workers`와 같은 인자를 주로 사용할겁니다!\n",
    "\n",
    "```python\n",
    "DataLoader(dataset, batch_size=1, shuffle=False, sampler=None,\n",
    "           batch_sampler=None, num_workers=0, collate_fn=None,\n",
    "           pin_memory=False, drop_last=False, timeout=0,\n",
    "           worker_init_fn=None)\n",
    "```"
   ]
  },
  {
   "cell_type": "code",
   "execution_count": null,
   "metadata": {},
   "outputs": [],
   "source": [
    "from torch.utils.data import DataLoader"
   ]
  },
  {
   "cell_type": "markdown",
   "metadata": {},
   "source": [
    "#### dataset\n",
    "DataLoader에는 앞서 생성한 Dataset 인스턴스가 들어갑니다."
   ]
  },
  {
   "cell_type": "code",
   "execution_count": null,
   "metadata": {},
   "outputs": [],
   "source": [
    "next(iter(DataLoader(dataset_iris)))"
   ]
  },
  {
   "cell_type": "markdown",
   "metadata": {},
   "source": [
    "#### batch_size\n",
    "인자가 나타내고 있는 뜻 그대로 배치 사이즈를 의미합니다. <br>\n",
    "전체 트레이닝 데이터 셋을 여러 작은 그룹을 나누었을 때 batch size는 하나의 소그룹에 속하는 데이터 수를 의미합니다."
   ]
  },
  {
   "cell_type": "code",
   "execution_count": null,
   "metadata": {},
   "outputs": [],
   "source": [
    "next(iter(DataLoader(dataset_iris, batch_size=4)))"
   ]
  },
  {
   "cell_type": "markdown",
   "metadata": {},
   "source": [
    "#### shuffle\n",
    "데이터를 DataLoader에서 섞어서 사용하겠는지를 설정할 수 있습니다. 앞선 경우와 다르게 데이터가 섞인 것을 확인하실 수 있습니다."
   ]
  },
  {
   "cell_type": "code",
   "execution_count": null,
   "metadata": {},
   "outputs": [],
   "source": [
    "next(iter(DataLoader(dataset_iris, shuffle=True, batch_size=4)))"
   ]
  },
  {
   "cell_type": "markdown",
   "metadata": {},
   "source": [
    "#### num_workers\n",
    "데이터를 불러올때 사용하는 서브 프로세스(subprocess) 개수입니다. 기존 데이터셋보다 훨씬 큰 데이터셋을 생성해봅시다.\n",
    "\n",
    "(참고로 윈도우에서는 멀티프로세서의 제한 때문에 num worker의 수가 0이상인 경우 에러가 발생합니다.)"
   ]
  },
  {
   "cell_type": "code",
   "execution_count": null,
   "metadata": {},
   "outputs": [],
   "source": [
    "class RandomDataset(Dataset):\n",
    "    def __init__(self, tot_len=10, n_features=1):\n",
    "        self.X = torch.rand((tot_len, n_features))\n",
    "        self.y = torch.randint(0, 3, size=(tot_len, ))\n",
    "\n",
    "    def __len__(self):\n",
    "        return len(self.X)\n",
    "\n",
    "    def __getitem__(self, idx):\n",
    "        x = torch.FloatTensor(self.X[idx])\n",
    "        y = self.y[idx]\n",
    "        return x, y"
   ]
  },
  {
   "cell_type": "code",
   "execution_count": null,
   "metadata": {},
   "outputs": [],
   "source": [
    "dataset_big_random = RandomDataset(tot_len=5000)  # 점점 큰 값을 설정해보시면 더욱 확실히 체감되실 겁니다!"
   ]
  },
  {
   "cell_type": "code",
   "execution_count": null,
   "metadata": {},
   "outputs": [],
   "source": [
    "%%time\n",
    "for data, label in DataLoader(dataset_big_random, num_workers=1):\n",
    "    pass"
   ]
  },
  {
   "cell_type": "code",
   "execution_count": null,
   "metadata": {},
   "outputs": [],
   "source": [
    "%%time\n",
    "for data, label in DataLoader(dataset_big_random, num_workers=4):\n",
    "    pass"
   ]
  },
  {
   "cell_type": "markdown",
   "metadata": {},
   "source": [
    "> <font color='red'><b>HINT</b></font>: 무작정 `num_workers`를 높인다고 좋진 않습니다! 데이터를 불러 CPU와 GPU 사이에서 많은 교류가 일어나면 오히려 `병목`이 생길 수 있습니다. [참고](https://jybaek.tistory.com/799)\n",
    "\n",
    "<img src=\"https://blog.kakaocdn.net/dn/EzN5Y/btqDZZCZt0G/ct7x36U2cg6iFx7W0eC9U0/img.png\" width=50%>\n",
    "<a href='https://deepinsight.tistory.com/106'><div align='center'>이미지 출처: Steve-Lee's Deep Insight 티스토리 블로그</div></a>"
   ]
  },
  {
   "cell_type": "markdown",
   "metadata": {},
   "source": [
    "#### drop_last\n",
    "batch 단위로 데이터를 불러온다면, batch_size에 따라 마지막 batch의 길이가 달라질 수 있습니다. batch의 길이가 다른 경우에 따라 loss를 구하기 귀찮은 경우가 생기고, batch의 크기에 따른 의존도 높은 함수를 사용할 때 걱정이 되는 경우 마지막 batch를 사용하지 않을 수 있습니다."
   ]
  },
  {
   "cell_type": "code",
   "execution_count": null,
   "metadata": {},
   "outputs": [],
   "source": [
    "dataset_random = RandomDataset(tot_len=10)"
   ]
  },
  {
   "cell_type": "code",
   "execution_count": null,
   "metadata": {},
   "outputs": [],
   "source": [
    "for data, label in DataLoader(dataset_random, num_workers=1, batch_size=4):\n",
    "    print(len(data))"
   ]
  },
  {
   "cell_type": "markdown",
   "metadata": {},
   "source": [
    "drop_last가 `True`값으로 설정할 경우, 마지막 배치(2)가 생략되는 걸 확인하실 수 있습니다."
   ]
  },
  {
   "cell_type": "code",
   "execution_count": null,
   "metadata": {},
   "outputs": [],
   "source": [
    "for data, label in DataLoader(dataset_random, num_workers=1, batch_size=4, drop_last=True):\n",
    "    print(len(data))"
   ]
  },
  {
   "cell_type": "markdown",
   "metadata": {},
   "source": [
    "### torchvision에서 제공하는 몇가지 transform 함수\n",
    "---\n",
    "transform을 하는 이유가 뭘까요? 딥러닝 학습을 위해선 고정된 입력값이 보장되어야 합니다. 하지만 수집한 모든 데이터의 크기가 동일하지 않을수도 있습니다. 가령 이미지의 같은 경우, 정사각형 형태의 이미지가 있는 반면에 직사각형 형태의 이미지가 있을 수 있죠. PyTorch에서는 특히 이미지의 경우, 이를 위해서 이미지를 Resize하는 함수 등을 제공합니다."
   ]
  },
  {
   "cell_type": "code",
   "execution_count": null,
   "metadata": {},
   "outputs": [],
   "source": [
    "from torchvision import transforms\n",
    "from PIL import Image\n",
    "import requests"
   ]
  },
  {
   "cell_type": "code",
   "execution_count": null,
   "metadata": {},
   "outputs": [],
   "source": [
    "url = 'https://github.com/Pjunn/GDSC_mlstudy/blob/main/2%EC%A3%BC%EC%B0%A8/ex_image1.jpg?raw=true'\n",
    "im = Image.open(requests.get(url, stream=True).raw)  # torchvision은 항상 PIL 객체로 받아야합니다!\n",
    "im"
   ]
  },
  {
   "cell_type": "markdown",
   "metadata": {},
   "source": [
    "#### transforms.[Resize](https://pytorch.org/vision/stable/transforms.html#torchvision.transforms.Resize)\n",
    "영어 단어에서 유추할 수 있는 그대로 이미지의 사이즈를 변환합니다.\n",
    "```python\n",
    "torchvision.transforms.Resize(size,\n",
    "                              interpolation=<InterpolationMode.BILINEAR: 'bilinear'>,\n",
    "                              max_size=None,\n",
    "                              antialias=None)\n",
    "```"
   ]
  },
  {
   "cell_type": "code",
   "execution_count": null,
   "metadata": {},
   "outputs": [],
   "source": [
    "transforms.Resize((200,200))(im)"
   ]
  },
  {
   "cell_type": "markdown",
   "metadata": {},
   "source": [
    "#### transforms.[RandomCrop](https://pytorch.org/vision/stable/transforms.html#torchvision.transforms.RandomCrop)\n",
    "지정된 이미지를 임의의 위치에서 자릅니다.\n",
    "\n",
    "```python\n",
    "torchvision.transforms.RandomCrop(size,\n",
    "                                  padding=None,\n",
    "                                  pad_if_needed=False,\n",
    "                                  fill=0,\n",
    "                                  padding_mode='constant')\n",
    "```"
   ]
  },
  {
   "cell_type": "code",
   "execution_count": null,
   "metadata": {},
   "outputs": [],
   "source": [
    "transforms.RandomCrop((100,100))(im)"
   ]
  },
  {
   "cell_type": "markdown",
   "metadata": {},
   "source": [
    "####  transforms.[RandomRotation](https://pytorch.org/vision/stable/transforms.html#torchvision.transforms.RandomRotation)\n",
    "주어진 이미지를 임의의 각도만큼 회전시킵니다.\n",
    "\n",
    "```python\n",
    "torchvision.transforms.RandomRotation(degrees,\n",
    "                                      interpolation=<InterpolationMode.NEAREST: 'nearest'>,\n",
    "                                      expand=False,\n",
    "                                      center=None,\n",
    "                                      fill=0,\n",
    "                                      resample=None)\n",
    "```"
   ]
  },
  {
   "cell_type": "code",
   "execution_count": null,
   "metadata": {},
   "outputs": [],
   "source": [
    "transforms.RandomRotation(30)(im)"
   ]
  },
  {
   "cell_type": "markdown",
   "metadata": {},
   "source": [
    "#### 👨‍💻 <font color='green'><b>[ 코딩 ]</b></font> transform 함수 제작\n",
    "```python\n",
    "🐙\n",
    "위에서 배운 torchvision의 transform를 응용하여 아래의 조건에 맞게끔 변환해 보아요.\n",
    "\n",
    "다음의 내용으로 만들어 보아요!\n",
    "\n",
    "(1) 이미지의 사이즈를 (224,224)로 변환해주세요.(Resize)\n",
    "(2) 앞서 변환된 이미지를 수평선을 기준으로 상하로 뒤집어주세요.(RandomVerticalFlip)\n",
    "(3) 앞서 변환된 이미지에서 중간 부분을 가로, 세로를 150만큼 잘라내어 주세요.(CenterCrop)\n",
    "```"
   ]
  },
  {
   "cell_type": "code",
   "execution_count": null,
   "metadata": {},
   "outputs": [],
   "source": [
    "def get_transforms_img(im):\n",
    "    ######################################TODO######################################\n",
    "    im = transforms.Resize((224, 224))(im)\n",
    "    im = transforms.RandomVerticalFlip(1.0)(im)\n",
    "    im = transforms.CenterCrop((150, 150))(im)\n",
    "    ################################################################################\n",
    "    return im"
   ]
  },
  {
   "cell_type": "code",
   "execution_count": null,
   "metadata": {},
   "outputs": [],
   "source": [
    "get_transforms_img(im)"
   ]
  },
  {
   "cell_type": "markdown",
   "metadata": {},
   "source": [
    "#### transforms.ToTensor"
   ]
  },
  {
   "cell_type": "code",
   "execution_count": null,
   "metadata": {},
   "outputs": [],
   "source": [
    "transforms.ToTensor()(im)"
   ]
  },
  {
   "cell_type": "markdown",
   "metadata": {},
   "source": [
    "> <font color='red'><b>HINT</b></font>: 항상 PIL로 불러올 필요는 없습니다. `ToPILImage` 메서드를 이용하면 바로 array 스타일에서 불러올 수 있습니다."
   ]
  },
  {
   "cell_type": "code",
   "execution_count": null,
   "metadata": {},
   "outputs": [],
   "source": [
    "im_arr = torch.rand((3, 224, 224))  # cv.imread나 plt.imread 와 같은 함수와 같이 쓰임\n",
    "im_pil = transforms.ToPILImage()(im_arr)\n",
    "im_pil"
   ]
  },
  {
   "cell_type": "markdown",
   "metadata": {},
   "source": [
    "#### 여러 transforms을 한꺼번에! Compose\n",
    "\n",
    "사실 위 과제처럼 굳이 함수를 만들어서 처리할 필요 없습니다. torchvision에서는 Compose라는 함수를 통해서 여러 transforms들을 하나로 묶어서 처리해줄 수 있습니다."
   ]
  },
  {
   "cell_type": "code",
   "execution_count": null,
   "metadata": {},
   "outputs": [],
   "source": [
    "transforms.Compose([transforms.Resize((224,224)),\n",
    "                    transforms.RandomVerticalFlip(0.5),\n",
    "                    transforms.CenterCrop(150)])(im)"
   ]
  },
  {
   "cell_type": "markdown",
   "metadata": {},
   "source": [
    "#### 그 외 여러가지 transforms\n",
    "\n",
    "앞서 소개드린 transforms 이외에도 정말 많은 transforms이 있습니다. 아래와 같이 수많은 transforms들이 있으니 한번 확인해보세요!"
   ]
  },
  {
   "cell_type": "code",
   "execution_count": null,
   "metadata": {},
   "outputs": [],
   "source": [
    "dir(transforms)"
   ]
  },
  {
   "cell_type": "markdown",
   "metadata": {},
   "source": [
    "> <font color='red'><b>HINT</b></font>: 물론 torchvision에서 제공하는 transform 이외에도 [albumentations](https://github.com/albumentations-team/albumentations)과 같이 다양한 transform을 제공하는 라이브러리가 많습니다!  \n",
    "\n",
    "<img src=\"https://camo.githubusercontent.com/3bb6e4bb500d96ad7bb4e4047af22a63ddf3242a894adf55ebffd3e184e4d113/68747470733a2f2f686162726173746f726167652e6f72672f776562742f62642f6e652f72762f62646e6572763563746b75646d73617a6e687734637273646669772e6a706567\">"
   ]
  },
  {
   "cell_type": "markdown",
   "metadata": {},
   "source": [
    "### 🎉🎉🎉 2주차 과제 완료! 🎉🎉🎉\n",
    "```python\n",
    "🐙\n",
    "여기까지 오다니 정말 믿기지 않아요!\n",
    "PyTorch에 대해서 아무것도 몰랐던 제가 이제는 원하는 모델을 만들 수 있게 되었어요!\n",
    "아직 배울 것이 많다는 것은 알고 있지만 그래도 너무 기뻐요!\n",
    "여러분도 수고 했어요!!\n",
    "```"
   ]
  },
  {
   "cell_type": "code",
   "execution_count": null,
   "metadata": {},
   "outputs": [],
   "source": []
  }
 ],
 "metadata": {
  "kernelspec": {
   "display_name": "base",
   "language": "python",
   "name": "python3"
  },
  "language_info": {
   "name": "python",
   "version": "3.10.9"
  },
  "orig_nbformat": 4
 },
 "nbformat": 4,
 "nbformat_minor": 2
}
